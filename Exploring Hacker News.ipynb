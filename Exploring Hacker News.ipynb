{
 "cells": [
  {
   "cell_type": "markdown",
   "metadata": {
    "collapsed": true
   },
   "source": [
    "# Exploring Hacker News Posts\n",
    "\n",
    "[Hacker News](https://news.ycombinator.com/) is site started by [Y Combinator](https://www.ycombinator.com/) where user-submitted stories (known as \"posts\") are voted and commented upon, similar to reddit. \n",
    "You can find the data set [here](https://www.kaggle.com/hacker-news/hacker-news-posts) but it has been reduced from almost 300,000 rows to around 20,000 rows by removing posts that didn't receive any comments, then randomly sampling from the remaining submissions.\n",
    "\n",
    "Below are the columns' descriptions:\n",
    "\n",
    "* id: The unique identifier from Hacker News for the post\n",
    "* title: The title of the post\n",
    "* url: The URL that the posts links to, if it the post has a URL\n",
    "* num_points: The number of points the post acquired, calculated as the total number of upvotes minus the total number of downvotes\n",
    "* num_comments: The number of comments that were made on the post\n",
    "* author: The username of the person who submitted the post\n",
    "* created_at: The date and time at which the post was submitted\n",
    "    \n",
    "In this project, we are more interested in posts whose titles begin with either **Ask HN** or **Show HN**. Users submit Ask HN to ask the Hacker News community a question. Below is an example of Ask HN\n",
    "\n",
    ">Ask HN: How to improve my personal website?<br>\n",
    ">Ask HN: Am I the only one outraged by Twitter shutting down share counts?<br>\n",
    ">Ask HN: Aby recent changes to CSS that broke mobile?\n",
    "\n",
    "Users submit Show HN to show the community a project, product, or something interesting. Below is an example:\n",
    "\n",
    ">Show HN: Wio Link  ESP8266 Based Web of Things Hardware Development Platform'<br>\n",
    "Show HN: Something pointless I made<br>\n",
    "Show HN: Shanhu.io, a programming playground powered by e8vm\n",
    "\n",
    "Our goal is to compare the 2 types of posts to determine:\n",
    "\n",
    "  * Do Ask HN or Show HN receive more comments on average?\n",
    "  * Do posts created at a certain time receive more comments on average?\n",
    "\n",
    "\n",
    "Let's open and read the data. WWe'll display the header row and the first five rows. "
   ]
  },
  {
   "cell_type": "code",
   "execution_count": 1,
   "metadata": {
    "collapsed": false
   },
   "outputs": [
    {
     "name": "stdout",
     "output_type": "stream",
     "text": [
      "['id', 'title', 'url', 'num_points', 'num_comments', 'author', 'created_at']\n",
      "\n",
      "\n",
      "['12224879', 'Interactive Dynamic Video', 'http://www.interactivedynamicvideo.com/', '386', '52', 'ne0phyte', '8/4/2016 11:52']\n",
      "\n",
      "\n",
      "['10975351', 'How to Use Open Source and Shut the Fuck Up at the Same Time', 'http://hueniverse.com/2016/01/26/how-to-use-open-source-and-shut-the-fuck-up-at-the-same-time/', '39', '10', 'josep2', '1/26/2016 19:30']\n",
      "\n",
      "\n",
      "['11964716', \"Florida DJs May Face Felony for April Fools' Water Joke\", 'http://www.thewire.com/entertainment/2013/04/florida-djs-april-fools-water-joke/63798/', '2', '1', 'vezycash', '6/23/2016 22:20']\n",
      "\n",
      "\n",
      "['11919867', 'Technology ventures: From Idea to Enterprise', 'https://www.amazon.com/Technology-Ventures-Enterprise-Thomas-Byers/dp/0073523429', '3', '1', 'hswarna', '6/17/2016 0:01']\n",
      "\n",
      "\n",
      "['10301696', 'Note by Note: The Making of Steinway L1037 (2007)', 'http://www.nytimes.com/2007/11/07/movies/07stein.html?_r=0', '8', '2', 'walterbell', '9/30/2015 4:12']\n",
      "\n",
      "\n",
      "Number of rows: 20100\n",
      "Number of columns: 7\n",
      "None\n"
     ]
    }
   ],
   "source": [
    "#Opening dataset\n",
    "\n",
    "import csv\n",
    "def open_dataset(dataset):\n",
    "    opened_file = open(dataset)\n",
    "    read_file = csv.reader(opened_file)\n",
    "    rows = list(read_file)\n",
    "    return rows\n",
    "    \n",
    "hn = open_dataset('hacker_news.csv')[1:]\n",
    "hn_header_row = open_dataset('hacker_news.csv')[0]\n",
    "\n",
    "# function to count the numbers or rows and display row in a \n",
    "#readable way\n",
    "\n",
    "def explore_data(dataset, start, end, rows_and_columns=False):\n",
    "    dataset_slice = dataset[start:end] # to slice the dataset\n",
    "    for row in dataset_slice: \n",
    "        print(row) # to print the sliced data set\n",
    "        print('\\n') # adds a new (empty) line after each row\n",
    "        \n",
    "    if rows_and_columns:\n",
    "        print('Number of rows:', len(dataset))\n",
    "        print('Number of columns:', len(dataset[0]))\n",
    "        \n",
    "print(hn_header_row)\n",
    "print('\\n')\n",
    "print(explore_data(hn, 0, 5, True))"
   ]
  },
  {
   "cell_type": "markdown",
   "metadata": {},
   "source": [
    "We can see that the dataset has 20100 rows and 7 columns. \n",
    "\n",
    "Now we are going to extract the Ask HN and Show HN posts from the other posts. We'll save Ask HN in **ask_posts**', Show HN in **show_posts**, and the rest of the posts in **other_posts**."
   ]
  },
  {
   "cell_type": "code",
   "execution_count": 2,
   "metadata": {
    "collapsed": false,
    "scrolled": true
   },
   "outputs": [
    {
     "name": "stdout",
     "output_type": "stream",
     "text": [
      "Number of Ask HN post: 1744\n",
      "Number of Show HN post: 1162\n",
      "Other posts: 17194\n"
     ]
    }
   ],
   "source": [
    "ask_posts = []\n",
    "show_posts = []\n",
    "other_posts = []\n",
    "\n",
    "for row in hn:\n",
    "    title = row[1]\n",
    "    title = title.lower() # convert titles to lower case\n",
    "    if title.startswith('ask hn'): \n",
    "        ask_posts.append(row)\n",
    "    elif title.startswith('show hn'):\n",
    "        show_posts.append(row)\n",
    "    else:\n",
    "        other_posts.append(row)\n",
    "        \n",
    "print('Number of Ask HN post:',len(ask_posts))\n",
    "print('Number of Show HN post:',len(show_posts))\n",
    "print('Other posts:',len(other_posts))"
   ]
  },
  {
   "cell_type": "markdown",
   "metadata": {},
   "source": [
    "We separated the 'ask posts' and 'show posts' into 2 list of lists. You can see that we have 1744 ask posts and 1162 show posts. Below is the first five rows of the ask posts list"
   ]
  },
  {
   "cell_type": "code",
   "execution_count": 3,
   "metadata": {
    "collapsed": false
   },
   "outputs": [
    {
     "name": "stdout",
     "output_type": "stream",
     "text": [
      "['id', 'title', 'url', 'num_points', 'num_comments', 'author', 'created_at']\n",
      "\n",
      "\n",
      "['12296411', 'Ask HN: How to improve my personal website?', '', '2', '6', 'ahmedbaracat', '8/16/2016 9:55']\n",
      "\n",
      "\n",
      "['10610020', 'Ask HN: Am I the only one outraged by Twitter shutting down share counts?', '', '28', '29', 'tkfx', '11/22/2015 13:43']\n",
      "\n",
      "\n",
      "['11610310', 'Ask HN: Aby recent changes to CSS that broke mobile?', '', '1', '1', 'polskibus', '5/2/2016 10:14']\n",
      "\n",
      "\n",
      "['12210105', 'Ask HN: Looking for Employee #3 How do I do it?', '', '1', '3', 'sph130', '8/2/2016 14:20']\n",
      "\n",
      "\n",
      "['10394168', 'Ask HN: Someone offered to buy my browser extension from me. What now?', '', '28', '17', 'roykolak', '10/15/2015 16:38']\n",
      "\n",
      "\n",
      "Number of rows: 1744\n",
      "Number of columns: 7\n",
      "None\n"
     ]
    }
   ],
   "source": [
    "#Printing ask posts\n",
    "print(hn_header_row)\n",
    "print('\\n')\n",
    "print(explore_data(ask_posts, 0, 5, True))"
   ]
  },
  {
   "cell_type": "markdown",
   "metadata": {},
   "source": [
    "Below are the first five rows of the show posts list:"
   ]
  },
  {
   "cell_type": "code",
   "execution_count": 4,
   "metadata": {
    "collapsed": false,
    "scrolled": true
   },
   "outputs": [
    {
     "name": "stdout",
     "output_type": "stream",
     "text": [
      "['id', 'title', 'url', 'num_points', 'num_comments', 'author', 'created_at']\n",
      "\n",
      "\n",
      "['10627194', 'Show HN: Wio Link  ESP8266 Based Web of Things Hardware Development Platform', 'https://iot.seeed.cc', '26', '22', 'kfihihc', '11/25/2015 14:03']\n",
      "\n",
      "\n",
      "['10646440', 'Show HN: Something pointless I made', 'http://dn.ht/picklecat/', '747', '102', 'dhotson', '11/29/2015 22:46']\n",
      "\n",
      "\n",
      "['11590768', 'Show HN: Shanhu.io, a programming playground powered by e8vm', 'https://shanhu.io', '1', '1', 'h8liu', '4/28/2016 18:05']\n",
      "\n",
      "\n",
      "['12178806', 'Show HN: Webscope  Easy way for web developers to communicate with Clients', 'http://webscopeapp.com', '3', '3', 'fastbrick', '7/28/2016 7:11']\n",
      "\n",
      "\n",
      "['10872799', 'Show HN: GeoScreenshot  Easily test Geo-IP based web pages', 'https://www.geoscreenshot.com/', '1', '9', 'kpsychwave', '1/9/2016 20:45']\n",
      "\n",
      "\n",
      "Number of rows: 1162\n",
      "Number of columns: 7\n",
      "None\n"
     ]
    }
   ],
   "source": [
    "#Printing show posts\n",
    "print(hn_header_row)\n",
    "print('\\n')\n",
    "print(explore_data(show_posts, 0, 5, True))"
   ]
  },
  {
   "cell_type": "markdown",
   "metadata": {},
   "source": [
    "### Now let's see if ask posts or show posts receive more comments on average"
   ]
  },
  {
   "cell_type": "code",
   "execution_count": 5,
   "metadata": {
    "collapsed": false
   },
   "outputs": [
    {
     "name": "stdout",
     "output_type": "stream",
     "text": [
      "Total number of comments for ask show: 24483\n",
      "Average number of comments per ask posts: 14\n",
      "\n",
      "\n",
      "Total number of show posts comments: 11988\n",
      "Average number of comments per show post: 10\n"
     ]
    }
   ],
   "source": [
    "#find the total number of comments for ask posts\n",
    "total_ask_comments = 0\n",
    "for row in ask_posts:\n",
    "    total_ask_comments += int(row[4])\n",
    "print('Total number of comments for ask show:', total_ask_comments)\n",
    "avg_ask_comments = round(total_ask_comments / len(ask_posts))\n",
    "print('Average number of comments per ask posts:', avg_ask_comments)\n",
    "print('\\n')\n",
    "\n",
    "#number of comments for show posts\n",
    "total_show_comments = 0\n",
    "for row in show_posts:\n",
    "    total_show_comments += int(row[4])\n",
    "print('Total number of show posts comments:', total_show_comments)\n",
    "avg_show_comments = round(total_show_comments / len(show_posts))\n",
    "print('Average number of comments per show post:', avg_show_comments)"
   ]
  },
  {
   "cell_type": "markdown",
   "metadata": {},
   "source": [
    "On average the ask posts receive more comments than the shop posts. To come to that conclusion, we calculated the total numbers of posts for, then divided that number the length of the dataset. Notice above, we found that there are 24483 ask post comments and in previous cell we found that there are 1744 ask posts. So to determine the average, we divided 24483/1744 and rounded down the answer. We did the same for show posts as well.\n",
    "\n",
    "Ask posts has more comments on average(14 comments) than show posts with 10. I believe the reason is because the ask post involves more interaction and people are more willing to answer a question than to comment on a project or any different show post.\n",
    "Since ask post are more likely to receive comments, we'll focus our remaining analysis just on these posts.\n",
    "\n",
    "Now let's determine if ask posts created at a certain time are more likely to attract comments. We'll\n",
    "\n",
    "1. Calculate the amount of ask posts created each hour of the day, along with the number of comments received\n",
    "2. Calculate the average number of comments ask posts receive by hour created.\n",
    "\n",
    "### Amount of ask posts and comments created each hour"
   ]
  },
  {
   "cell_type": "code",
   "execution_count": 6,
   "metadata": {
    "collapsed": false
   },
   "outputs": [
    {
     "name": "stdout",
     "output_type": "stream",
     "text": [
      "Posts created by hour: \n",
      " {'16': 108, '11': 58, '17': 100, '20': 80, '15': 116, '13': 85, '04': 47, '22': 71, '03': 54, '07': 34, '21': 109, '08': 48, '23': 68, '02': 58, '14': 107, '10': 59, '09': 45, '05': 46, '01': 60, '00': 55, '18': 109, '19': 110, '12': 73, '06': 44}\n",
      "\n",
      "\n",
      "Comments posted by hour: \n",
      " {'16': 1814, '11': 641, '17': 1146, '20': 1722, '15': 4477, '13': 1253, '04': 337, '22': 479, '03': 421, '07': 267, '21': 1745, '08': 492, '23': 543, '02': 1381, '14': 1416, '10': 793, '09': 251, '05': 464, '01': 683, '00': 447, '18': 1439, '19': 1188, '12': 687, '06': 397}\n"
     ]
    }
   ],
   "source": [
    "import datetime as dt\n",
    "result_list = []\n",
    "for row in ask_posts:\n",
    "    result_list.append([row[6], int(row[4])])\n",
    "\n",
    "counts_by_hour = {}\n",
    "comments_by_hour = {}\n",
    "date_format = '%m/%d/%Y %H:%M'\n",
    "\n",
    "for row in result_list:\n",
    "    hour = row[0]\n",
    "    hour = dt.datetime.strptime(hour, date_format).strftime('%H')\n",
    "    if hour not in counts_by_hour:\n",
    "        counts_by_hour[hour] = 1\n",
    "        comments_by_hour[hour] = row[1]\n",
    "    else:\n",
    "        counts_by_hour[hour] += 1\n",
    "        comments_by_hour[hour] += row[1]\n",
    "print('Posts created by hour:','\\n',counts_by_hour)\n",
    "print('\\n')\n",
    "print('Comments posted by hour:','\\n',comments_by_hour)\n"
   ]
  },
  {
   "cell_type": "markdown",
   "metadata": {},
   "source": [
    "So above, we created 2 dictionaries: **counts_by_hour** for the posts created per hour and **comments_by_hour** for the comments created by hour. The hours are in 24h format. \n",
    "For example you can see that at 18(6pm) there were 109 posts and 1439 comments created.\n",
    "\n",
    "\n",
    "### Average number of comments for Ask HN posts by hour\n",
    "Now let's calculate the average number of comments for posts created during each hour of the day. We'll use the two dictionaries created above."
   ]
  },
  {
   "cell_type": "code",
   "execution_count": 7,
   "metadata": {
    "collapsed": false
   },
   "outputs": [
    {
     "name": "stdout",
     "output_type": "stream",
     "text": [
      "[['16', 16.796296296296298], ['11', 11.051724137931034], ['17', 11.46], ['20', 21.525], ['15', 38.5948275862069], ['13', 14.741176470588234], ['04', 7.170212765957447], ['22', 6.746478873239437], ['03', 7.796296296296297], ['07', 7.852941176470588], ['21', 16.009174311926607], ['08', 10.25], ['23', 7.985294117647059], ['02', 23.810344827586206], ['14', 13.233644859813085], ['10', 13.440677966101696], ['09', 5.5777777777777775], ['05', 10.08695652173913], ['01', 11.383333333333333], ['00', 8.127272727272727], ['18', 13.20183486238532], ['19', 10.8], ['12', 9.41095890410959], ['06', 9.022727272727273]]\n"
     ]
    }
   ],
   "source": [
    "avg_by_hour = [] #list of list to store hours and avg comments\n",
    "for c in comments_by_hour:\n",
    "    avg_by_hour.append([c, comments_by_hour[c]/counts_by_hour[c]])\n",
    "print(avg_by_hour)\n",
    "        "
   ]
  },
  {
   "cell_type": "markdown",
   "metadata": {},
   "source": [
    "Above we calculated the average number of comments created by post during each hour of the day. \n",
    "\n",
    "Now let's find out the hours with the highest values. We are going to swap element's places in our 'avg_by_hour' list. For example the first value in our list is ['01', 11.383333333333333], we'll swap them so that it becomes [11.383333333333333, '01']. The average number of comments per hour will become the first element, the hour will become second. Once we do that, we'll sort through list in descending order"
   ]
  },
  {
   "cell_type": "code",
   "execution_count": 8,
   "metadata": {
    "collapsed": false
   },
   "outputs": [
    {
     "name": "stdout",
     "output_type": "stream",
     "text": [
      "[[16.796296296296298, '16'], [11.051724137931034, '11'], [11.46, '17'], [21.525, '20'], [38.5948275862069, '15'], [14.741176470588234, '13'], [7.170212765957447, '04'], [6.746478873239437, '22'], [7.796296296296297, '03'], [7.852941176470588, '07'], [16.009174311926607, '21'], [10.25, '08'], [7.985294117647059, '23'], [23.810344827586206, '02'], [13.233644859813085, '14'], [13.440677966101696, '10'], [5.5777777777777775, '09'], [10.08695652173913, '05'], [11.383333333333333, '01'], [8.127272727272727, '00'], [13.20183486238532, '18'], [10.8, '19'], [9.41095890410959, '12'], [9.022727272727273, '06']]\n"
     ]
    }
   ],
   "source": [
    "swap_avg_by_hour = []\n",
    "for h, c in avg_by_hour:\n",
    "    swap_avg_by_hour.append([c,h])\n",
    "print(swap_avg_by_hour)"
   ]
  },
  {
   "cell_type": "code",
   "execution_count": 9,
   "metadata": {
    "collapsed": false
   },
   "outputs": [
    {
     "name": "stdout",
     "output_type": "stream",
     "text": [
      "[[38.5948275862069, '15'], [23.810344827586206, '02'], [21.525, '20'], [16.796296296296298, '16'], [16.009174311926607, '21']]\n"
     ]
    }
   ],
   "source": [
    "#sorting through the swapped list\n",
    "sorted_swap = sorted(swap_avg_by_hour, reverse = True)\n",
    "print(sorted_swap[:5])"
   ]
  },
  {
   "cell_type": "markdown",
   "metadata": {},
   "source": [
    "As you can see above we sorted through our swapped list and printed the Top 5 hours for Ask posts comments. 15(3pm) has the most comments per hour with 38.5 followed by 2am with 23.8, then 20(8pm) with 21.5"
   ]
  },
  {
   "cell_type": "code",
   "execution_count": 14,
   "metadata": {
    "collapsed": false
   },
   "outputs": [
    {
     "name": "stdout",
     "output_type": "stream",
     "text": [
      "15:00: 38.59 average comments per post\n",
      "02:00: 23.81 average comments per post\n",
      "20:00: 21.52 average comments per post\n",
      "16:00: 16.80 average comments per post\n",
      "21:00: 16.01 average comments per post\n"
     ]
    }
   ],
   "source": [
    "for comment, hour in sorted_swap[:5]:\n",
    "    each_hour = dt.datetime.strptime(hour, '%H').strftime('%H:%M')\n",
    "    comment_per_hour = '{h}: {c:.2f} average comments per post'.format(h = each_hour, c = comment)\n",
    "    print(comment_per_hour)"
   ]
  },
  {
   "cell_type": "markdown",
   "metadata": {},
   "source": [
    "After our analysis of the Hacker News dataset, we have concluded that the ideal time to post and have a higher chance of receiving comments is 15(or 3PM), followed by 2am(I really don't know why anyone would stay awake at this time to comment but some people do lol). \n",
    "15 or 3pm is at the top with the most received comments on average but that could also be influenced by the fact that it's also the hour with the most post created(116 posts). "
   ]
  }
 ],
 "metadata": {
  "kernelspec": {
   "display_name": "Python 3",
   "language": "python",
   "name": "python3"
  },
  "language_info": {
   "codemirror_mode": {
    "name": "ipython",
    "version": 3
   },
   "file_extension": ".py",
   "mimetype": "text/x-python",
   "name": "python",
   "nbconvert_exporter": "python",
   "pygments_lexer": "ipython3",
   "version": "3.4.3"
  }
 },
 "nbformat": 4,
 "nbformat_minor": 2
}
